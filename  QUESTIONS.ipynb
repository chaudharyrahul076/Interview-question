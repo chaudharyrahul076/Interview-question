{
 "cells": [
  {
   "cell_type": "code",
   "execution_count": 2,
   "id": "10ecd569",
   "metadata": {},
   "outputs": [
    {
     "ename": "IndentationError",
     "evalue": "unexpected indent (Temp/ipykernel_14256/2179452048.py, line 9)",
     "output_type": "error",
     "traceback": [
      "\u001b[1;36m  File \u001b[1;32m\"C:\\Users\\panis\\AppData\\Local\\Temp/ipykernel_14256/2179452048.py\"\u001b[1;36m, line \u001b[1;32m9\u001b[0m\n\u001b[1;33m    Unit                                                        Price\u001b[0m\n\u001b[1;37m    ^\u001b[0m\n\u001b[1;31mIndentationError\u001b[0m\u001b[1;31m:\u001b[0m unexpected indent\n"
     ]
    }
   ],
   "source": [
    "#  Q.1.     Explain the ternary operator in Python.\n",
    "#  Q.2.     What are lists and tuples? What is the key difference between the two?\n",
    "#  Q.3.     What are the common built-in data types in Python?\n",
    "#  Q.4.     What are modules and packages in Python?\n",
    "#  Q.5.     What is __init__?\n",
    "#  Q.6.     What is the difference between Python Arrays and lists?\n",
    "#  Q.7.     What are Python namespaces? Why are they used?\n",
    "#  Q.8.     Write a program to calculate the electricity bill (accept number of unit from user) according to the following criteria :\n",
    "             Unit                                                        Price  \n",
    "             First 100 units                                             no charge\n",
    "             Next 100 units                                              Rs 5 per unit\n",
    "             After 200 units                                             Rs 10 per unit\n",
    "#  Q.9.     Illustrate a switch-case equivalent using if-elif-else.   \n",
    "#  Q.10.     Using a dictionary, create an equivalent to a switch case statement\n",
    "#  Q.11.     What are Arithmetic Operators? What are various types of arithmetic operators that we can use in Python?\n",
    "#  Q.12.     What are relational operators?\n",
    "#  Q.13.     What are assignment operators?\n",
    "#  Q.14.     What are logical operators? define any two operators.\n",
    "#  Q.15.     What are the basic rules of operator precedence in Python?\n",
    "#  Q.16.     What would be the output of the following code?\n",
    "                 numbers = [1,2,3,4] \n",
    "                 for i in numbers:\n",
    "                 numbers.append(i + 1) \n",
    "                 print(numbers)\n",
    "                    \n",
    "# Q.17.      What will be the output for the following code?                    \n",
    "              i = 6\n",
    "              while True:\n",
    "              if i%4 == 0:\n",
    "              break\n",
    "              print(i)\n",
    "              i -= 2      \n",
    "# Q.18.      Write code to reverse a string.\n",
    "# Q.19.      What will be the output for the following code?\n",
    "                a = 0\n",
    "                for i in range(5): \n",
    "                    a = a+1 \n",
    "                continue \n",
    "                print(a)\n",
    "                \n",
    "# Q.20.      What would be the output for the following code?\n",
    "                    \n",
    "                 for item in ('a','b','c','d'): \n",
    "                    print (item) \n",
    "                 if item == 'c' : \n",
    "                break \n",
    "                 continue\n",
    "                print (\"challenge to reach here\")   \n",
    "                    \n",
    "                    \n",
    "                    \n",
    "                    \n",
    "                    \n",
    "                    \n",
    "                    \n",
    "                    "
   ]
  }
 ],
 "metadata": {
  "kernelspec": {
   "display_name": "Python 3 (ipykernel)",
   "language": "python",
   "name": "python3"
  },
  "language_info": {
   "codemirror_mode": {
    "name": "ipython",
    "version": 3
   },
   "file_extension": ".py",
   "mimetype": "text/x-python",
   "name": "python",
   "nbconvert_exporter": "python",
   "pygments_lexer": "ipython3",
   "version": "3.9.7"
  }
 },
 "nbformat": 4,
 "nbformat_minor": 5
}
